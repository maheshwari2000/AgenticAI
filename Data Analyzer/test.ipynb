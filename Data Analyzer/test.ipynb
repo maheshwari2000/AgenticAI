{
 "cells": [
  {
   "cell_type": "code",
   "execution_count": 1,
   "metadata": {},
   "outputs": [
    {
     "data": {
      "text/plain": [
       "True"
      ]
     },
     "execution_count": 1,
     "metadata": {},
     "output_type": "execute_result"
    }
   ],
   "source": [
    "from dotenv import load_dotenv\n",
    "load_dotenv()"
   ]
  },
  {
   "cell_type": "code",
   "execution_count": 3,
   "metadata": {},
   "outputs": [
    {
     "name": "stdout",
     "output_type": "stream",
     "text": [
      "[31/Mar/2025 13:52:22] INFO - Language models initialized successfully.\n",
      "[31/Mar/2025 13:52:22] INFO - Initialization complete.\n"
     ]
    }
   ],
   "source": [
    "import os\n",
    "import logging\n",
    "from langchain_groq import ChatGroq\n",
    "from langgraph.graph import StateGraph\n",
    "\n",
    "# Set up logger\n",
    "logger = logging.getLogger(__name__)\n",
    "\n",
    "# Initialize language models\n",
    "try:\n",
    "    llm = llm = ChatGroq(model_name=\"llama3-8b-8192\")\n",
    "    # power_llm = ChatOpenAI(model=\"gpt-4o\", temperature=0.5, max_tokens=4096)\n",
    "    # json_llm = ChatOpenAI(\n",
    "    #     model=\"gpt-4o\",\n",
    "    #     model_kwargs={\"response_format\": {\"type\": \"json_object\"}},\n",
    "    #     temperature=0,\n",
    "    #     max_tokens=4096\n",
    "    # )\n",
    "    logger.info(\"Language models initialized successfully.\")\n",
    "except Exception as e:\n",
    "    logger.error(f\"Error initializing language models: {str(e)}\")\n",
    "    raise\n",
    "\n",
    "logger.info(\"Initialization complete.\")"
   ]
  },
  {
   "cell_type": "code",
   "execution_count": null,
   "metadata": {},
   "outputs": [],
   "source": [
    "from core.state import State\n",
    "from core.node import agent_node,human_choice_node,note_agent_node,human_review_node,refiner_node\n",
    "from create_agent import create_agent,create_supervisor\n",
    "from core.router import QualityReview_router,hypothesis_router,process_router\n",
    "# Create state graph for the workflow\n",
    "workflow = StateGraph(State)\n",
    "members = [\"Hypothesis\",\"Process\",\"Visualization\", \"Search\", \"Coder\", \"Report\", \"QualityReview\",\"Refiner\"]"
   ]
  },
  {
   "cell_type": "code",
   "execution_count": null,
   "metadata": {},
   "outputs": [],
   "source": []
  },
  {
   "cell_type": "code",
   "execution_count": 14,
   "metadata": {},
   "outputs": [
    {
     "data": {
      "text/html": [
       "<div>\n",
       "<style scoped>\n",
       "    .dataframe tbody tr th:only-of-type {\n",
       "        vertical-align: middle;\n",
       "    }\n",
       "\n",
       "    .dataframe tbody tr th {\n",
       "        vertical-align: top;\n",
       "    }\n",
       "\n",
       "    .dataframe thead th {\n",
       "        text-align: right;\n",
       "    }\n",
       "</style>\n",
       "<table border=\"1\" class=\"dataframe\">\n",
       "  <thead>\n",
       "    <tr style=\"text-align: right;\">\n",
       "      <th></th>\n",
       "      <th>Course ID</th>\n",
       "      <th>Course Name</th>\n",
       "      <th>Course Description</th>\n",
       "      <th>Instructors</th>\n",
       "      <th>Email</th>\n",
       "      <th>Research</th>\n",
       "    </tr>\n",
       "  </thead>\n",
       "  <tbody>\n",
       "    <tr>\n",
       "      <th>0</th>\n",
       "      <td>INST104</td>\n",
       "      <td>Design Across Campus</td>\n",
       "      <td>What is design, who does it, and how is it don...</td>\n",
       "      <td>Francesca Polito</td>\n",
       "      <td>fpolito@umd.edu</td>\n",
       "      <td>0</td>\n",
       "    </tr>\n",
       "    <tr>\n",
       "      <th>1</th>\n",
       "      <td>INST104</td>\n",
       "      <td>Design Across Campus</td>\n",
       "      <td>What is design, who does it, and how is it don...</td>\n",
       "      <td>Marilyn Iriarte Santacruz</td>\n",
       "      <td>miriarte@umd.edu</td>\n",
       "      <td>0</td>\n",
       "    </tr>\n",
       "    <tr>\n",
       "      <th>2</th>\n",
       "      <td>INST126</td>\n",
       "      <td>Introduction to Programming for Information Sc...</td>\n",
       "      <td>An introduction to computer programming for st...</td>\n",
       "      <td>Scott Jackson</td>\n",
       "      <td>scottrj@umd.edu</td>\n",
       "      <td>0</td>\n",
       "    </tr>\n",
       "    <tr>\n",
       "      <th>3</th>\n",
       "      <td>INST151</td>\n",
       "      <td>Becoming A Social Media Influencer</td>\n",
       "      <td>Teaches students how to create, grow, and mana...</td>\n",
       "      <td>Jennifer Golbeck</td>\n",
       "      <td>jgolbeck@umd.edu</td>\n",
       "      <td>Research</td>\n",
       "    </tr>\n",
       "    <tr>\n",
       "      <th>4</th>\n",
       "      <td>INST153</td>\n",
       "      <td>Records Scandals &amp; Data Vandals: Public &amp; Priv...</td>\n",
       "      <td>Expressly organized around case studies about ...</td>\n",
       "      <td>Jason Baron</td>\n",
       "      <td>jrbaron@umd.edu</td>\n",
       "      <td>Research</td>\n",
       "    </tr>\n",
       "  </tbody>\n",
       "</table>\n",
       "</div>"
      ],
      "text/plain": [
       "  Course ID                                        Course Name  \\\n",
       "0   INST104                               Design Across Campus   \n",
       "1   INST104                               Design Across Campus   \n",
       "2   INST126  Introduction to Programming for Information Sc...   \n",
       "3   INST151                 Becoming A Social Media Influencer   \n",
       "4   INST153  Records Scandals & Data Vandals: Public & Priv...   \n",
       "\n",
       "                                  Course Description  \\\n",
       "0  What is design, who does it, and how is it don...   \n",
       "1  What is design, who does it, and how is it don...   \n",
       "2  An introduction to computer programming for st...   \n",
       "3  Teaches students how to create, grow, and mana...   \n",
       "4  Expressly organized around case studies about ...   \n",
       "\n",
       "                 Instructors             Email  Research  \n",
       "0           Francesca Polito   fpolito@umd.edu         0  \n",
       "1  Marilyn Iriarte Santacruz  miriarte@umd.edu         0  \n",
       "2              Scott Jackson   scottrj@umd.edu         0  \n",
       "3           Jennifer Golbeck  jgolbeck@umd.edu  Research  \n",
       "4                Jason Baron   jrbaron@umd.edu  Research  "
      ]
     },
     "execution_count": 14,
     "metadata": {},
     "output_type": "execute_result"
    }
   ],
   "source": [
    "import pandas as pd\n",
    "df = pd.read_clipboard()\n",
    "df.head()"
   ]
  },
  {
   "cell_type": "code",
   "execution_count": 20,
   "metadata": {},
   "outputs": [],
   "source": [
    "df = df.groupby(['Instructors','Email','Research']).agg({'Course ID':lambda x: \"/\".join(x), 'Course Name':lambda x: \"/\".join(x)}).reset_index()"
   ]
  },
  {
   "cell_type": "code",
   "execution_count": 21,
   "metadata": {},
   "outputs": [],
   "source": [
    "df.to_csv(\"delete.csv\", index=False)"
   ]
  },
  {
   "cell_type": "code",
   "execution_count": null,
   "metadata": {},
   "outputs": [],
   "source": []
  }
 ],
 "metadata": {
  "kernelspec": {
   "display_name": "projects",
   "language": "python",
   "name": "python3"
  },
  "language_info": {
   "codemirror_mode": {
    "name": "ipython",
    "version": 3
   },
   "file_extension": ".py",
   "mimetype": "text/x-python",
   "name": "python",
   "nbconvert_exporter": "python",
   "pygments_lexer": "ipython3",
   "version": "3.12.5"
  }
 },
 "nbformat": 4,
 "nbformat_minor": 2
}
