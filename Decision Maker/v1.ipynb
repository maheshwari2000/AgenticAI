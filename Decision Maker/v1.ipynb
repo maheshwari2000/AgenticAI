{
 "cells": [
  {
   "cell_type": "code",
   "execution_count": 11,
   "id": "97bf9df5",
   "metadata": {},
   "outputs": [],
   "source": [
    "from langchain_community.tools import DuckDuckGoSearchRun\n",
    "\n",
    "search_tool = DuckDuckGoSearchRun()"
   ]
  },
  {
   "cell_type": "code",
   "execution_count": 5,
   "id": "48787996",
   "metadata": {},
   "outputs": [
    {
     "data": {
      "text/plain": [
       "'Cost of living in Berlin: $15'"
      ]
     },
     "execution_count": 5,
     "metadata": {},
     "output_type": "execute_result"
    }
   ],
   "source": [
    "from langchain.tools import Tool\n",
    "\n",
    "def get_cost_of_living_info(location: str) -> str:\n",
    "    \"\"\"Fetches dummy cost of living information for a given location.\"\"\"\n",
    "    # Dummy weather data\n",
    "    cost_of_living = {\n",
    "        \"Berlin\" : 15,\n",
    "        \"New-York\" : 25,\n",
    "        \"Texas\" : 20\n",
    "    }\n",
    "\n",
    "    return f\"Cost of living in {location}: ${cost_of_living[location]}\"\n",
    "\n",
    "# Initialize the tool\n",
    "cost_of_living_info_tool = Tool(\n",
    "    name=\"get_cost_of_living_info\",\n",
    "    func=get_cost_of_living_info,\n",
    "    description=\"Fetches dummy cost of living information for a given location.\"\n",
    ")\n",
    "\n",
    "get_cost_of_living_info(location=\"Berlin\")"
   ]
  },
  {
   "cell_type": "code",
   "execution_count": 6,
   "id": "38305868",
   "metadata": {},
   "outputs": [
    {
     "data": {
      "text/plain": [
       "'Quality of living in Berlin: Cold winters, strong cultural scene, affordable housing.'"
      ]
     },
     "execution_count": 6,
     "metadata": {},
     "output_type": "execute_result"
    }
   ],
   "source": [
    "def get_quality_of_living_info(location: str) -> str:\n",
    "    \"\"\"Fetches dummy quality of living information for a given location.\"\"\"\n",
    "    quality_of_living = {\n",
    "        \"New-York\": \"Fast-paced, diverse, excellent public transport.\",\n",
    "        \"Texas\": \"Warm weather, growing arts scene, low taxes.\",\n",
    "        \"Berlin\": \"Cold winters, strong cultural scene, affordable housing.\"\n",
    "    }\n",
    "\n",
    "    return f\"Quality of living in {location}: {quality_of_living[location]}\"\n",
    "\n",
    "# Initialize the tool\n",
    "quality_of_living_info_tool = Tool(\n",
    "    name=\"get_quality_of_living_info\",\n",
    "    func=get_quality_of_living_info,\n",
    "    description=\"Fetches dummy quality of living information for a given location.\"\n",
    ")\n",
    "\n",
    "get_quality_of_living_info(location=\"Berlin\")"
   ]
  },
  {
   "cell_type": "code",
   "execution_count": 7,
   "id": "1eebb400",
   "metadata": {},
   "outputs": [],
   "source": [
    "from langchain_groq import ChatGroq\n",
    "\n",
    "chat = ChatGroq(model=\"llama3-8b-8192\", verbose=True)\n",
    "tools = [search_tool, cost_of_living_info_tool, quality_of_living_info_tool]\n",
    "chat_with_tools = chat.bind_tools(tools)"
   ]
  },
  {
   "cell_type": "code",
   "execution_count": 8,
   "id": "ef815690",
   "metadata": {},
   "outputs": [],
   "source": [
    "from typing import TypedDict, Annotated\n",
    "from langgraph.graph.message import add_messages\n",
    "from langchain_core.messages import AnyMessage, HumanMessage, AIMessage\n",
    "from langgraph.prebuilt import ToolNode\n",
    "from langgraph.graph import START, StateGraph\n",
    "from langgraph.prebuilt import tools_condition\n",
    "\n",
    "# Generate the AgentState and Agent graph\n",
    "class AgentState(TypedDict):\n",
    "    messages: Annotated[list[AnyMessage], add_messages]\n",
    "\n",
    "def assistant(state: AgentState):\n",
    "    return {\n",
    "        \"messages\": [chat_with_tools.invoke(state[\"messages\"])],\n",
    "    }\n",
    "\n",
    "## The graph\n",
    "builder = StateGraph(AgentState)\n",
    "\n",
    "# Define nodes: these do the work\n",
    "builder.add_node(\"assistant\", assistant)\n",
    "builder.add_node(\"tools\", ToolNode(tools))\n",
    "\n",
    "# Define edges: these determine how the control flow moves\n",
    "builder.add_edge(START, \"assistant\")\n",
    "builder.add_conditional_edges(\n",
    "    \"assistant\",\n",
    "    # If the latest message requires a tool, route to tools\n",
    "    # Otherwise, provide a direct response\n",
    "    tools_condition,\n",
    ")\n",
    "builder.add_edge(\"tools\", \"assistant\")\n",
    "alfred = builder.compile()"
   ]
  },
  {
   "cell_type": "code",
   "execution_count": 9,
   "id": "36b3bdf1",
   "metadata": {},
   "outputs": [
    {
     "name": "stdout",
     "output_type": "stream",
     "text": [
      "Alfred's Response:\n",
      "Based on the results, I would say that the cost of living in Berlin ($15) is lower compared to Texas ($20). Additionally, the quality of living in Berlin seems to be quite good with a strong cultural scene and affordable housing, despite having cold winters.\n",
      "\n",
      "Considering your current role as a Data Scientist in Texas and the offer for a Senior Data Scientist position in Berlin, I would recommend taking the offer in Berlin. The lower cost of living and good quality of living could make a significant difference in your overall quality of life.\n"
     ]
    }
   ],
   "source": [
    "messages = [AIMessage(content=\"You are an intelligent career decision specialist and have been provided with tools to comapre cost of living and qulity of living for diffrent locations and based on that give user which location they should choose and why.\"),\n",
    "    HumanMessage(content=\"\"\"\n",
    "I am currently a Data Scientist in Texas, and I have a new offer for a Senior Data Scientist position in Berlin.\n",
    "Should I take it?\n",
    "\"\"\")]\n",
    "response = alfred.invoke({\"messages\": messages})\n",
    "\n",
    "print(\"Alfred's Response:\")\n",
    "print(response['messages'][-1].content)"
   ]
  },
  {
   "cell_type": "code",
   "execution_count": 10,
   "id": "a0dbd23d",
   "metadata": {},
   "outputs": [
    {
     "data": {
      "text/plain": [
       "[AIMessage(content='You are an intelligent career decision specialist and have been provided with tools to comapre cost of living and qulity of living for diffrent locations and based on that give user which location they should choose and why.', additional_kwargs={}, response_metadata={}, id='9595861c-276f-4566-994d-a8bee3095a6e'),\n",
       " HumanMessage(content='\\nI am currently a Data Scientist in Texas, and I have a new offer for a Senior Data Scientist position in Berlin.\\nShould I take it?\\n', additional_kwargs={}, response_metadata={}, id='8f191965-257f-49e5-bde5-fd25ddb6f009'),\n",
       " AIMessage(content='', additional_kwargs={'tool_calls': [{'id': 'call_5ymn', 'function': {'arguments': '{\"__arg1\":\"Berlin\"}', 'name': 'get_cost_of_living_info'}, 'type': 'function'}, {'id': 'call_npm4', 'function': {'arguments': '{\"__arg1\":\"Berlin\"}', 'name': 'get_quality_of_living_info'}, 'type': 'function'}]}, response_metadata={'token_usage': {'completion_tokens': 123, 'prompt_tokens': 1248, 'total_tokens': 1371, 'completion_time': 0.1025, 'prompt_time': 0.259308785, 'queue_time': 0.9228390449999999, 'total_time': 0.361808785}, 'model_name': 'llama3-8b-8192', 'system_fingerprint': 'fp_a97cfe35ae', 'finish_reason': 'tool_calls', 'logprobs': None}, id='run-12feabd9-5145-464a-9deb-04d7e606f237-0', tool_calls=[{'name': 'get_cost_of_living_info', 'args': {'__arg1': 'Berlin'}, 'id': 'call_5ymn', 'type': 'tool_call'}, {'name': 'get_quality_of_living_info', 'args': {'__arg1': 'Berlin'}, 'id': 'call_npm4', 'type': 'tool_call'}], usage_metadata={'input_tokens': 1248, 'output_tokens': 123, 'total_tokens': 1371}),\n",
       " ToolMessage(content='Cost of living in Berlin: $15', name='get_cost_of_living_info', id='db005b09-63ef-41c5-b7f4-41fe8c28fce5', tool_call_id='call_5ymn'),\n",
       " ToolMessage(content='Quality of living in Berlin: Cold winters, strong cultural scene, affordable housing.', name='get_quality_of_living_info', id='1b64c67f-d5a8-4226-8723-d621fe85b5d5', tool_call_id='call_npm4'),\n",
       " AIMessage(content='', additional_kwargs={'tool_calls': [{'id': 'call_9f7d', 'function': {'arguments': '{\"__arg1\":\"Texas\"}', 'name': 'get_cost_of_living_info'}, 'type': 'function'}]}, response_metadata={'token_usage': {'completion_tokens': 43, 'prompt_tokens': 1400, 'total_tokens': 1443, 'completion_time': 0.035833333, 'prompt_time': 0.192829216, 'queue_time': 0.535649064, 'total_time': 0.228662549}, 'model_name': 'llama3-8b-8192', 'system_fingerprint': 'fp_a97cfe35ae', 'finish_reason': 'tool_calls', 'logprobs': None}, id='run-87541d9d-26fd-4ed4-8c75-14593ac88be0-0', tool_calls=[{'name': 'get_cost_of_living_info', 'args': {'__arg1': 'Texas'}, 'id': 'call_9f7d', 'type': 'tool_call'}], usage_metadata={'input_tokens': 1400, 'output_tokens': 43, 'total_tokens': 1443}),\n",
       " ToolMessage(content='Cost of living in Texas: $20', name='get_cost_of_living_info', id='7008c4df-fc6c-4429-b370-f165a2c96f8b', tool_call_id='call_9f7d'),\n",
       " AIMessage(content='Based on the results, I would say that the cost of living in Berlin ($15) is lower compared to Texas ($20). Additionally, the quality of living in Berlin seems to be quite good with a strong cultural scene and affordable housing, despite having cold winters.\\n\\nConsidering your current role as a Data Scientist in Texas and the offer for a Senior Data Scientist position in Berlin, I would recommend taking the offer in Berlin. The lower cost of living and good quality of living could make a significant difference in your overall quality of life.', additional_kwargs={}, response_metadata={'token_usage': {'completion_tokens': 107, 'prompt_tokens': 1480, 'total_tokens': 1587, 'completion_time': 0.089166667, 'prompt_time': 0.186104248, 'queue_time': 0.09534759099999998, 'total_time': 0.275270915}, 'model_name': 'llama3-8b-8192', 'system_fingerprint': 'fp_dadc9d6142', 'finish_reason': 'stop', 'logprobs': None}, id='run-0fdb91b0-6a68-4c08-bc70-0f4aeade3b5b-0', usage_metadata={'input_tokens': 1480, 'output_tokens': 107, 'total_tokens': 1587})]"
      ]
     },
     "execution_count": 10,
     "metadata": {},
     "output_type": "execute_result"
    }
   ],
   "source": [
    "response['messages']"
   ]
  },
  {
   "cell_type": "code",
   "execution_count": null,
   "id": "59e53913",
   "metadata": {},
   "outputs": [],
   "source": []
  }
 ],
 "metadata": {
  "kernelspec": {
   "display_name": "projects",
   "language": "python",
   "name": "python3"
  },
  "language_info": {
   "codemirror_mode": {
    "name": "ipython",
    "version": 3
   },
   "file_extension": ".py",
   "mimetype": "text/x-python",
   "name": "python",
   "nbconvert_exporter": "python",
   "pygments_lexer": "ipython3",
   "version": "3.12.5"
  }
 },
 "nbformat": 4,
 "nbformat_minor": 5
}
