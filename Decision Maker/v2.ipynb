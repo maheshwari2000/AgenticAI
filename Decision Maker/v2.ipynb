{
 "cells": [
  {
   "cell_type": "code",
   "execution_count": 1,
   "id": "97bf9df5",
   "metadata": {},
   "outputs": [],
   "source": [
    "from langchain_community.tools import DuckDuckGoSearchRun\n",
    "\n",
    "search_tool = DuckDuckGoSearchRun()"
   ]
  },
  {
   "cell_type": "code",
   "execution_count": 2,
   "id": "48787996",
   "metadata": {},
   "outputs": [
    {
     "data": {
      "text/plain": [
       "'Summary of cost of living in Berlin, Germany:The estimated monthly costs for a family of four are 3,886.0$ (3,417.1€), excluding rent (using our estimator).The estimated monthly costs for a single person are 1,145.7$ (1,007.5€), excluding rent.Berlin is 34.3% less expensive than New York (excluding rent, see our cost of living index).Rent in Berlin is, on average, 66.6% lower than in New York.'"
      ]
     },
     "execution_count": 2,
     "metadata": {},
     "output_type": "execute_result"
    }
   ],
   "source": [
    "from langchain.tools import Tool\n",
    "import requests\n",
    "from bs4 import BeautifulSoup\n",
    "\n",
    "def get_cost_of_living_info(location: str) -> str:\n",
    "    \"\"\"Fetches cost of living information for a given location.\"\"\"\n",
    "    try:\n",
    "        url = f\"https://www.numbeo.com/cost-of-living/in/{location.replace(' ', '-')}\"\n",
    "        response = requests.get(url)\n",
    "        soup = BeautifulSoup(response.content, \"html.parser\")\n",
    "\n",
    "        div = soup.find(\n",
    "            'div', \n",
    "            {'class': 'seeding-call table_color summary limit_size_ad_right padding_lower other_highlight_color'}\n",
    "        )\n",
    "        return div.text.strip() if div else \"Cost of living data not found.\"\n",
    "    \n",
    "    except Exception as e:\n",
    "        return f\"Error fetching data for {location}: {str(e)}\"\n",
    "\n",
    "# Initialize the tool\n",
    "cost_of_living_info_tool = Tool(\n",
    "    name=\"get_cost_of_living_info\",\n",
    "    func=get_cost_of_living_info,\n",
    "    description=\"Fetches cost of living information for a given location.\"\n",
    ")\n",
    "\n",
    "get_cost_of_living_info(location=\"Berlin\")"
   ]
  },
  {
   "cell_type": "code",
   "execution_count": 3,
   "id": "38305868",
   "metadata": {},
   "outputs": [
    {
     "data": {
      "text/plain": [
       "'Quality of living in Berlin: Strong finance, healthcare, and consulting job market.'"
      ]
     },
     "execution_count": 3,
     "metadata": {},
     "output_type": "execute_result"
    }
   ],
   "source": [
    "def get_quality_of_living_info(location: str) -> str:\n",
    "    \"\"\"Fetches dummy quality of living information for a given location.\"\"\"\n",
    "    location = location.replace(\" \",\"-\")\n",
    "    quality_of_living = {\n",
    "        \"New-York\": \"High competition, high salary, best for finance & tech.\",\n",
    "        \"San-Francisco\": \"Tech hub, many startups, expensive but high salaries.\",\n",
    "        \"Austin\": \"Growing tech scene, affordable living.\",\n",
    "        \"Berlin\": \"Strong finance, healthcare, and consulting job market.\"\n",
    "    }\n",
    "\n",
    "    return f\"Quality of living in {location}: {quality_of_living[location]}\"\n",
    "\n",
    "# Initialize the tool\n",
    "quality_of_living_info_tool = Tool(\n",
    "    name=\"get_quality_of_living_info\",\n",
    "    func=get_quality_of_living_info,\n",
    "    description=\"Fetches dummy quality of living information for a given location.\"\n",
    ")\n",
    "\n",
    "get_quality_of_living_info(location=\"Berlin\")"
   ]
  },
  {
   "cell_type": "code",
   "execution_count": 4,
   "id": "26974dba",
   "metadata": {},
   "outputs": [
    {
     "data": {
      "text/plain": [
       "'Property Investment Data for Berlin; Price to Income Ratio: 11.49; Mortgage as Percentage of Income: 82.49%; Loan Affordability Index: 1.21; Price to Rent Ratio - City Centre: 29.03; Price to Rent Ratio - Outside of Centre: 28.69; Gross Rental Yield (City Centre): 3.44%; Gross Rental Yield (Outside of Centre): 3.49%'"
      ]
     },
     "execution_count": 4,
     "metadata": {},
     "output_type": "execute_result"
    }
   ],
   "source": [
    "def get_property_info(location: str) -> str:\n",
    "    \"\"\"Fetches property related information for a given location.\"\"\"\n",
    "    location = location.replace(\" \",\"-\")\n",
    "    url = f\"https://www.numbeo.com/property-investment/in/{location.replace(' ', '-')}\"\n",
    "    response = requests.get(url)\n",
    "    soup = BeautifulSoup(response.content, \"html.parser\")\n",
    "\n",
    "    table = soup.find('table',class_=\"table_indices\")\n",
    "    rows = table.find_all('tr')\n",
    "    data = f\"Property Investment Data for {location}\"\n",
    "    for i in range(len(rows)):\n",
    "        if i==0:\n",
    "            continue\n",
    "        tds = rows[i].find_all('td')\n",
    "        td_data = tds[0].text+tds[1].text.replace(\"\\n\",\"\")\n",
    "        data = data+\"; \"+td_data\n",
    "\n",
    "    return data\n",
    "\n",
    "# Initialize the tool\n",
    "property_info_tool = Tool(\n",
    "    name=\"get_property_info\",\n",
    "    func=get_property_info,\n",
    "    description=\"Fetches property related information for a given location.\"\n",
    ")\n",
    "\n",
    "get_property_info(location=\"Berlin\")"
   ]
  },
  {
   "cell_type": "code",
   "execution_count": 5,
   "id": "1eebb400",
   "metadata": {},
   "outputs": [],
   "source": [
    "from langchain_groq import ChatGroq\n",
    "\n",
    "chat = ChatGroq(model=\"llama3-8b-8192\", verbose=True)\n",
    "tools = [cost_of_living_info_tool, quality_of_living_info_tool, property_info_tool]\n",
    "chat_with_tools = chat.bind_tools(tools)"
   ]
  },
  {
   "cell_type": "code",
   "execution_count": 6,
   "id": "ef815690",
   "metadata": {},
   "outputs": [],
   "source": [
    "from typing import TypedDict, Annotated\n",
    "from langgraph.graph.message import add_messages\n",
    "from langchain_core.messages import AnyMessage, HumanMessage, AIMessage\n",
    "from langgraph.prebuilt import ToolNode\n",
    "from langgraph.graph import START, StateGraph\n",
    "from langgraph.prebuilt import tools_condition\n",
    "\n",
    "# Generate the AgentState and Agent graph\n",
    "class AgentState(TypedDict):\n",
    "    messages: Annotated[list[AnyMessage], add_messages]\n",
    "\n",
    "def assistant(state: AgentState):\n",
    "    return {\n",
    "        \"messages\": [chat_with_tools.invoke(state[\"messages\"])],\n",
    "    }\n",
    "\n",
    "## The graph\n",
    "builder = StateGraph(AgentState)\n",
    "\n",
    "# Define nodes: these do the work\n",
    "builder.add_node(\"assistant\", assistant)\n",
    "builder.add_node(\"tools\", ToolNode(tools))\n",
    "\n",
    "# Define edges: these determine how the control flow moves\n",
    "builder.add_edge(START, \"assistant\")\n",
    "builder.add_conditional_edges(\n",
    "    \"assistant\",\n",
    "    # If the latest message requires a tool, route to tools\n",
    "    # Otherwise, provide a direct response\n",
    "    tools_condition,\n",
    ")\n",
    "builder.add_edge(\"tools\", \"assistant\")\n",
    "alfred = builder.compile()"
   ]
  },
  {
   "cell_type": "code",
   "execution_count": 7,
   "id": "0edcc612",
   "metadata": {},
   "outputs": [
    {
     "data": {
      "image/png": "[encoded data removed]",
      "text/plain": [
       "<langgraph.graph.state.CompiledStateGraph object at 0x10e9d5a30>"
      ]
     },
     "execution_count": 7,
     "metadata": {},
     "output_type": "execute_result"
    }
   ],
   "source": [
    "alfred"
   ]
  },
  {
   "cell_type": "code",
   "execution_count": 8,
   "id": "36b3bdf1",
   "metadata": {},
   "outputs": [
    {
     "name": "stdout",
     "output_type": "stream",
     "text": [
      "Alfred's Response:\n",
      "<tool-use>{}</tool-use>\n",
      "\n",
      "Based on the provided data, here's a comparison of the two cities:\n",
      "\n",
      "Cost of Living: Austin is 36.9% less expensive than New York, while Berlin is 34.3% less expensive than New York. Berlin has a slightly lower cost of living, but both cities are relatively affordable.\n",
      "\n",
      "Quality of Living: Austin has a growing tech scene and affordable living, while Berlin has a strong finance, healthcare, and consulting job market.\n",
      "\n",
      "Property Investment: Berlin has a higher price-to-income ratio, mortgage as a percentage of income, and lower loan affordability index compared to Austin. However, Austin has a higher gross rental yield.\n",
      "\n",
      "Considering your current role as a Data Scientist in Austin and the new offer for a Senior Data Scientist position in Berlin, I would recommend taking the offer in Berlin. Berlin's strong finance, healthcare, and consulting job market could provide more opportunities for growth and professional development. Additionally, Berlin's lower cost of living and slightly higher gross rental yield might be beneficial for your personal and financial situation.\n"
     ]
    }
   ],
   "source": [
    "messages = [AIMessage(content=\"\"\"\n",
    "    You are an intelligent career decision specialist and have been provided with tools to compare -\n",
    "        Cost of Living, Quality of Living and Property Investment Data \n",
    "    for provided locations and based on that give user which location they should choose and why.\n",
    "    Your output should contain Final Comparison of -\n",
    "        {Cost of living}, {Quality of living}, {Property Investment} for both cities\n",
    "        Conclusion : Which city should I choose and why?\n",
    "    \"\"\"),\n",
    "    HumanMessage(content=\"\"\"\n",
    "    I am currently a Data Scientist in Austin, and I have a new offer for a Senior Data Scientist position in Berlin.\n",
    "    Should I take it?\n",
    "    \"\"\")]\n",
    "response = alfred.invoke({\"messages\": messages})\n",
    "\n",
    "print(\"Alfred's Response:\")\n",
    "print(response['messages'][-1].content)"
   ]
  },
  {
   "cell_type": "code",
   "execution_count": 9,
   "id": "52924435",
   "metadata": {},
   "outputs": [
    {
     "name": "stdout",
     "output_type": "stream",
     "text": [
      "What an exciting decision! As a Data Scientist, you're likely considering factors beyond just the job title and salary. Here's a balanced analysis to help you weigh the pros and cons:\n",
      "\n",
      "**Pros of taking the offer:**\n",
      "\n",
      "1. **New challenge and growth**: A Senior Data Scientist role can bring new responsibilities, challenges, and opportunities for growth, which can be beneficial for your career.\n",
      "2. **International experience**: Living and working in Berlin, Germany, can be a fantastic experience, providing you with a new cultural perspective and a broader network.\n",
      "3. **Different industry or company**: If you're interested in exploring a new industry or company, this could be a great opportunity to do so.\n",
      "4. **Language skills**: As German is an official language in Berlin, this could be a chance to improve your language skills or learn a new one.\n",
      "5. **Cost of living**: Berlin has a relatively lower cost of living compared to Austin, which could mean more disposable income.\n",
      "\n",
      "**Cons of taking the offer:**\n",
      "\n",
      "1. **Distance from family and friends**: Leaving behind loved ones, including family and friends, can be emotionally challenging.\n",
      "2. **Different work culture**: German work culture is known for being formal and efficient, which may require adjustments to your working style.\n",
      "3. **Language barriers**: Although German is an official language, English is widely spoken in Berlin, but you may still encounter language barriers, especially outside of work.\n",
      "4. **Integration challenges**: As a foreigner, you may face integration challenges in daily life, such as finding a new apartment, setting up a bank account, and navigating healthcare systems.\n",
      "5. **Homesickness**: Leaving behind the familiarity of Austin, including your favorite places, food, and activities, can lead to feelings of homesickness.\n",
      "\n",
      "**Questions to ask yourself:**\n",
      "\n",
      "1. Are you comfortable with the idea of leaving behind your current life in Austin, including your social network and familiar environment?\n",
      "2. Are you prepared for the potential language barriers and integration challenges in Berlin?\n",
      "3. How important is career growth and new challenges to you, and does this offer align with your goals?\n",
      "4. How will you maintain your connections with family and friends back in Austin?\n",
      "5. Are you willing to adapt to a new work culture and potentially different expectations?\n",
      "\n",
      "**Final thoughts:**\n",
      "\n",
      "Weighing the pros and cons, taking the offer could be a great opportunity for personal and professional growth. However, it's essential to consider the potential impact on your personal life and well-being. Make sure to ask the employer about any support they can offer for integration and settling into the new environment.\n",
      "\n",
      "Ultimately, the decision is yours. Consider your priorities, goals, and what's best for your personal and professional life. Good luck!\n"
     ]
    }
   ],
   "source": [
    "print(chat.invoke(messages[-1].content).content)"
   ]
  },
  {
   "cell_type": "code",
   "execution_count": 10,
   "id": "f52c138f",
   "metadata": {},
   "outputs": [
    {
     "data": {
      "text/plain": [
       "[AIMessage(content='\\n    You are an intelligent career decision specialist and have been provided with tools to compare -\\n        Cost of Living, Quality of Living and Property Investment Data \\n    for provided locations and based on that give user which location they should choose and why.\\n    Your output should contain Final Comparison of -\\n        {Cost of living}, {Quality of living}, {Property Investment} for both cities\\n        Conclusion : Which city should I choose and why?\\n    ', additional_kwargs={}, response_metadata={}, id='12a924db-34ff-4604-ab1f-ccc651918bce'),\n",
       " HumanMessage(content='\\n    I am currently a Data Scientist in Austin, and I have a new offer for a Senior Data Scientist position in Berlin.\\n    Should I take it?\\n    ', additional_kwargs={}, response_metadata={}, id='f7614773-9edd-4d58-9d90-3dd7c9286a30'),\n",
       " AIMessage(content='', additional_kwargs={'tool_calls': [{'id': 'call_kxxc', 'function': {'arguments': '{\"__arg1\":\"Austin\"}', 'name': 'get_cost_of_living_info'}, 'type': 'function'}, {'id': 'call_vznc', 'function': {'arguments': '{\"__arg1\":\"Berlin\"}', 'name': 'get_cost_of_living_info'}, 'type': 'function'}, {'id': 'call_8vf0', 'function': {'arguments': '{\"__arg1\":\"Austin\"}', 'name': 'get_quality_of_living_info'}, 'type': 'function'}, {'id': 'call_tpxc', 'function': {'arguments': '{\"__arg1\":\"Berlin\"}', 'name': 'get_quality_of_living_info'}, 'type': 'function'}, {'id': 'call_c537', 'function': {'arguments': '{\"__arg1\":\"Austin\"}', 'name': 'get_property_info'}, 'type': 'function'}, {'id': 'call_4428', 'function': {'arguments': '{\"__arg1\":\"Berlin\"}', 'name': 'get_property_info'}, 'type': 'function'}]}, response_metadata={'token_usage': {'completion_tokens': 325, 'prompt_tokens': 1276, 'total_tokens': 1601, 'completion_time': 0.270833333, 'prompt_time': 0.239390925, 'queue_time': 0.32821729499999996, 'total_time': 0.510224258}, 'model_name': 'llama3-8b-8192', 'system_fingerprint': 'fp_a97cfe35ae', 'finish_reason': 'tool_calls', 'logprobs': None}, id='run-80995622-51b6-4739-b6ed-177d7efa5956-0', tool_calls=[{'name': 'get_cost_of_living_info', 'args': {'__arg1': 'Austin'}, 'id': 'call_kxxc', 'type': 'tool_call'}, {'name': 'get_cost_of_living_info', 'args': {'__arg1': 'Berlin'}, 'id': 'call_vznc', 'type': 'tool_call'}, {'name': 'get_quality_of_living_info', 'args': {'__arg1': 'Austin'}, 'id': 'call_8vf0', 'type': 'tool_call'}, {'name': 'get_quality_of_living_info', 'args': {'__arg1': 'Berlin'}, 'id': 'call_tpxc', 'type': 'tool_call'}, {'name': 'get_property_info', 'args': {'__arg1': 'Austin'}, 'id': 'call_c537', 'type': 'tool_call'}, {'name': 'get_property_info', 'args': {'__arg1': 'Berlin'}, 'id': 'call_4428', 'type': 'tool_call'}], usage_metadata={'input_tokens': 1276, 'output_tokens': 325, 'total_tokens': 1601}),\n",
       " ToolMessage(content='Summary of cost of living in Austin, TX, United States:The estimated monthly costs for a family of four are 4,030.6$, excluding rent (using our estimator).The estimated monthly costs for a single person are 1,130.7$, excluding rent.Austin is 36.9% less expensive than New York (excluding rent, see our cost of living index).Rent in Austin is, on average, 50.1% lower than in New York.', name='get_cost_of_living_info', id='794a9486-bdc2-41bb-a260-df22f17a6785', tool_call_id='call_kxxc'),\n",
       " ToolMessage(content='Summary of cost of living in Berlin, Germany:The estimated monthly costs for a family of four are 3,886.0$ (3,417.1€), excluding rent (using our estimator).The estimated monthly costs for a single person are 1,145.7$ (1,007.5€), excluding rent.Berlin is 34.3% less expensive than New York (excluding rent, see our cost of living index).Rent in Berlin is, on average, 66.6% lower than in New York.', name='get_cost_of_living_info', id='84f4fb79-1877-4377-9ced-91c13c26e584', tool_call_id='call_vznc'),\n",
       " ToolMessage(content='Quality of living in Austin: Growing tech scene, affordable living.', name='get_quality_of_living_info', id='81dacb41-1579-4e64-8d37-22bf119dc2df', tool_call_id='call_8vf0'),\n",
       " ToolMessage(content='Quality of living in Berlin: Strong finance, healthcare, and consulting job market.', name='get_quality_of_living_info', id='a0784e02-1f15-4bc5-b2c3-15964e8197bf', tool_call_id='call_tpxc'),\n",
       " ToolMessage(content='Property Investment Data for Austin; Price to Income Ratio: 3.49; Mortgage as Percentage of Income: 31.24%; Loan Affordability Index: 3.20; Price to Rent Ratio - City Centre: 8.63; Price to Rent Ratio - Outside of Centre: 9.19; Gross Rental Yield (City Centre): 11.59%; Gross Rental Yield (Outside of Centre): 10.88%', name='get_property_info', id='2985b7c5-c869-4774-9b91-4f91d8df0259', tool_call_id='call_c537'),\n",
       " ToolMessage(content='Property Investment Data for Berlin; Price to Income Ratio: 11.49; Mortgage as Percentage of Income: 82.49%; Loan Affordability Index: 1.21; Price to Rent Ratio - City Centre: 29.03; Price to Rent Ratio - Outside of Centre: 28.69; Gross Rental Yield (City Centre): 3.44%; Gross Rental Yield (Outside of Centre): 3.49%', name='get_property_info', id='15798d2d-69f0-4d89-9fd0-58db4ba7a37f', tool_call_id='call_4428'),\n",
       " AIMessage(content='', additional_kwargs={'tool_calls': [{'id': 'call_xvvf', 'function': {'arguments': '{\"__arg1\":\"Austin\"}', 'name': 'get_cost_of_living_info'}, 'type': 'function'}, {'id': 'call_axgc', 'function': {'arguments': '{\"__arg1\":\"Berlin\"}', 'name': 'get_cost_of_living_info'}, 'type': 'function'}, {'id': 'call_08n8', 'function': {'arguments': '{\"__arg1\":\"Austin\"}', 'name': 'get_quality_of_living_info'}, 'type': 'function'}, {'id': 'call_t1mq', 'function': {'arguments': '{\"__arg1\":\"Berlin\"}', 'name': 'get_quality_of_living_info'}, 'type': 'function'}]}, response_metadata={'token_usage': {'completion_tokens': 123, 'prompt_tokens': 2045, 'total_tokens': 2168, 'completion_time': 0.1025, 'prompt_time': 0.255167108, 'queue_time': 0.07358624600000002, 'total_time': 0.357667108}, 'model_name': 'llama3-8b-8192', 'system_fingerprint': 'fp_179b0f92c9', 'finish_reason': 'tool_calls', 'logprobs': None}, id='run-1ad7481e-f644-410c-b47b-4ecd6f70b92d-0', tool_calls=[{'name': 'get_cost_of_living_info', 'args': {'__arg1': 'Austin'}, 'id': 'call_xvvf', 'type': 'tool_call'}, {'name': 'get_cost_of_living_info', 'args': {'__arg1': 'Berlin'}, 'id': 'call_axgc', 'type': 'tool_call'}, {'name': 'get_quality_of_living_info', 'args': {'__arg1': 'Austin'}, 'id': 'call_08n8', 'type': 'tool_call'}, {'name': 'get_quality_of_living_info', 'args': {'__arg1': 'Berlin'}, 'id': 'call_t1mq', 'type': 'tool_call'}], usage_metadata={'input_tokens': 2045, 'output_tokens': 123, 'total_tokens': 2168}),\n",
       " ToolMessage(content='Summary of cost of living in Austin, TX, United States:The estimated monthly costs for a family of four are 4,030.6$, excluding rent (using our estimator).The estimated monthly costs for a single person are 1,130.7$, excluding rent.Austin is 36.9% less expensive than New York (excluding rent, see our cost of living index).Rent in Austin is, on average, 50.1% lower than in New York.', name='get_cost_of_living_info', id='944a375f-d427-4c2c-b809-52db64591ee5', tool_call_id='call_xvvf'),\n",
       " ToolMessage(content='Summary of cost of living in Berlin, Germany:The estimated monthly costs for a family of four are 3,886.0$ (3,417.1€), excluding rent (using our estimator).The estimated monthly costs for a single person are 1,145.7$ (1,007.5€), excluding rent.Berlin is 34.3% less expensive than New York (excluding rent, see our cost of living index).Rent in Berlin is, on average, 66.6% lower than in New York.', name='get_cost_of_living_info', id='70518014-5fde-4711-aba3-5dafd13c87f1', tool_call_id='call_axgc'),\n",
       " ToolMessage(content='Quality of living in Austin: Growing tech scene, affordable living.', name='get_quality_of_living_info', id='7bbe95a1-0b6e-4511-b948-8b8d3725ae43', tool_call_id='call_08n8'),\n",
       " ToolMessage(content='Quality of living in Berlin: Strong finance, healthcare, and consulting job market.', name='get_quality_of_living_info', id='eefcb158-2bab-41b2-adc5-bda2681564fc', tool_call_id='call_t1mq'),\n",
       " AIMessage(content=\"<tool-use>{}</tool-use>\\n\\nBased on the provided data, here's a comparison of the two cities:\\n\\nCost of Living: Austin is 36.9% less expensive than New York, while Berlin is 34.3% less expensive than New York. Berlin has a slightly lower cost of living, but both cities are relatively affordable.\\n\\nQuality of Living: Austin has a growing tech scene and affordable living, while Berlin has a strong finance, healthcare, and consulting job market.\\n\\nProperty Investment: Berlin has a higher price-to-income ratio, mortgage as a percentage of income, and lower loan affordability index compared to Austin. However, Austin has a higher gross rental yield.\\n\\nConsidering your current role as a Data Scientist in Austin and the new offer for a Senior Data Scientist position in Berlin, I would recommend taking the offer in Berlin. Berlin's strong finance, healthcare, and consulting job market could provide more opportunities for growth and professional development. Additionally, Berlin's lower cost of living and slightly higher gross rental yield might be beneficial for your personal and financial situation.\", additional_kwargs={}, response_metadata={'token_usage': {'completion_tokens': 214, 'prompt_tokens': 2524, 'total_tokens': 2738, 'completion_time': 0.178333333, 'prompt_time': 0.315929957, 'queue_time': 0.10077840400000004, 'total_time': 0.49426329}, 'model_name': 'llama3-8b-8192', 'system_fingerprint': 'fp_a97cfe35ae', 'finish_reason': 'stop', 'logprobs': None}, id='run-f4aa9358-d9f3-4215-881e-d82ded51b911-0', usage_metadata={'input_tokens': 2524, 'output_tokens': 214, 'total_tokens': 2738})]"
      ]
     },
     "execution_count": 10,
     "metadata": {},
     "output_type": "execute_result"
    }
   ],
   "source": [
    "response['messages']"
   ]
  },
  {
   "cell_type": "code",
   "execution_count": null,
   "id": "85888c9c",
   "metadata": {},
   "outputs": [],
   "source": []
  }
 ],
 "metadata": {
  "kernelspec": {
   "display_name": "projects",
   "language": "python",
   "name": "python3"
  },
  "language_info": {
   "codemirror_mode": {
    "name": "ipython",
    "version": 3
   },
   "file_extension": ".py",
   "mimetype": "text/x-python",
   "name": "python",
   "nbconvert_exporter": "python",
   "pygments_lexer": "ipython3",
   "version": "3.12.5"
  }
 },
 "nbformat": 4,
 "nbformat_minor": 5
}
